{
  "nbformat": 4,
  "nbformat_minor": 0,
  "metadata": {
    "colab": {
      "name": "air.ipynb",
      "provenance": [],
      "collapsed_sections": []
    },
    "kernelspec": {
      "name": "python3",
      "display_name": "Python 3"
    }
  },
  "cells": [
    {
      "cell_type": "code",
      "metadata": {
        "id": "f0aHHWJjSP7a"
      },
      "source": [
        ""
      ],
      "execution_count": 227,
      "outputs": []
    },
    {
      "cell_type": "code",
      "metadata": {
        "id": "3hrfPJ7wPkh4"
      },
      "source": [
        "import pandas as pd\r\n",
        "import numpy as np"
      ],
      "execution_count": 228,
      "outputs": []
    },
    {
      "cell_type": "code",
      "metadata": {
        "colab": {
          "base_uri": "https://localhost:8080/",
          "height": 309
        },
        "id": "HYnngeFEQO42",
        "outputId": "ead972f2-44bc-4df6-dbf8-05956cd50dfa"
      },
      "source": [
        "col=['DATE','TIME','CO_GT','PT08_S1_CO','NMHC_GT','C6H6_GT','PT08_S2_NMHC',\r\n",
        "     'NOX_GT','PT08_S3_NOX','NO2_GT','PT08_S4_NO2','PT08_S5_O3','T','RH','AH']\r\n",
        "use=list(np.arange(len(col)))\r\n",
        "air=pd.read_excel('/AirQualityUCI.xlsx',header=None,skiprows=1,names=col,na_filter=True,\r\n",
        "                   na_values=-200,usecols=use)\r\n",
        "air.head()"
      ],
      "execution_count": 229,
      "outputs": [
        {
          "output_type": "execute_result",
          "data": {
            "text/html": [
              "<div>\n",
              "<style scoped>\n",
              "    .dataframe tbody tr th:only-of-type {\n",
              "        vertical-align: middle;\n",
              "    }\n",
              "\n",
              "    .dataframe tbody tr th {\n",
              "        vertical-align: top;\n",
              "    }\n",
              "\n",
              "    .dataframe thead th {\n",
              "        text-align: right;\n",
              "    }\n",
              "</style>\n",
              "<table border=\"1\" class=\"dataframe\">\n",
              "  <thead>\n",
              "    <tr style=\"text-align: right;\">\n",
              "      <th></th>\n",
              "      <th>DATE</th>\n",
              "      <th>TIME</th>\n",
              "      <th>CO_GT</th>\n",
              "      <th>PT08_S1_CO</th>\n",
              "      <th>NMHC_GT</th>\n",
              "      <th>C6H6_GT</th>\n",
              "      <th>PT08_S2_NMHC</th>\n",
              "      <th>NOX_GT</th>\n",
              "      <th>PT08_S3_NOX</th>\n",
              "      <th>NO2_GT</th>\n",
              "      <th>PT08_S4_NO2</th>\n",
              "      <th>PT08_S5_O3</th>\n",
              "      <th>T</th>\n",
              "      <th>RH</th>\n",
              "      <th>AH</th>\n",
              "    </tr>\n",
              "  </thead>\n",
              "  <tbody>\n",
              "    <tr>\n",
              "      <th>0</th>\n",
              "      <td>2004-03-10</td>\n",
              "      <td>18:00:00</td>\n",
              "      <td>2.6</td>\n",
              "      <td>1360.00</td>\n",
              "      <td>150</td>\n",
              "      <td>11.881723</td>\n",
              "      <td>1045.50</td>\n",
              "      <td>166.0</td>\n",
              "      <td>1056.25</td>\n",
              "      <td>113.0</td>\n",
              "      <td>1692.00</td>\n",
              "      <td>1267.50</td>\n",
              "      <td>13.60</td>\n",
              "      <td>48.875001</td>\n",
              "      <td>0.757754</td>\n",
              "    </tr>\n",
              "    <tr>\n",
              "      <th>1</th>\n",
              "      <td>2004-03-10</td>\n",
              "      <td>19:00:00</td>\n",
              "      <td>2.0</td>\n",
              "      <td>1292.25</td>\n",
              "      <td>112</td>\n",
              "      <td>9.397165</td>\n",
              "      <td>954.75</td>\n",
              "      <td>103.0</td>\n",
              "      <td>1173.75</td>\n",
              "      <td>92.0</td>\n",
              "      <td>1558.75</td>\n",
              "      <td>972.25</td>\n",
              "      <td>13.30</td>\n",
              "      <td>47.700000</td>\n",
              "      <td>0.725487</td>\n",
              "    </tr>\n",
              "    <tr>\n",
              "      <th>2</th>\n",
              "      <td>2004-03-10</td>\n",
              "      <td>20:00:00</td>\n",
              "      <td>2.2</td>\n",
              "      <td>1402.00</td>\n",
              "      <td>88</td>\n",
              "      <td>8.997817</td>\n",
              "      <td>939.25</td>\n",
              "      <td>131.0</td>\n",
              "      <td>1140.00</td>\n",
              "      <td>114.0</td>\n",
              "      <td>1554.50</td>\n",
              "      <td>1074.00</td>\n",
              "      <td>11.90</td>\n",
              "      <td>53.975000</td>\n",
              "      <td>0.750239</td>\n",
              "    </tr>\n",
              "    <tr>\n",
              "      <th>3</th>\n",
              "      <td>2004-03-10</td>\n",
              "      <td>21:00:00</td>\n",
              "      <td>2.2</td>\n",
              "      <td>1375.50</td>\n",
              "      <td>80</td>\n",
              "      <td>9.228796</td>\n",
              "      <td>948.25</td>\n",
              "      <td>172.0</td>\n",
              "      <td>1092.00</td>\n",
              "      <td>122.0</td>\n",
              "      <td>1583.75</td>\n",
              "      <td>1203.25</td>\n",
              "      <td>11.00</td>\n",
              "      <td>60.000000</td>\n",
              "      <td>0.786713</td>\n",
              "    </tr>\n",
              "    <tr>\n",
              "      <th>4</th>\n",
              "      <td>2004-03-10</td>\n",
              "      <td>22:00:00</td>\n",
              "      <td>1.6</td>\n",
              "      <td>1272.25</td>\n",
              "      <td>51</td>\n",
              "      <td>6.518224</td>\n",
              "      <td>835.50</td>\n",
              "      <td>131.0</td>\n",
              "      <td>1205.00</td>\n",
              "      <td>116.0</td>\n",
              "      <td>1490.00</td>\n",
              "      <td>1110.00</td>\n",
              "      <td>11.15</td>\n",
              "      <td>59.575001</td>\n",
              "      <td>0.788794</td>\n",
              "    </tr>\n",
              "  </tbody>\n",
              "</table>\n",
              "</div>"
            ],
            "text/plain": [
              "        DATE      TIME  CO_GT  ...      T         RH        AH\n",
              "0 2004-03-10  18:00:00    2.6  ...  13.60  48.875001  0.757754\n",
              "1 2004-03-10  19:00:00    2.0  ...  13.30  47.700000  0.725487\n",
              "2 2004-03-10  20:00:00    2.2  ...  11.90  53.975000  0.750239\n",
              "3 2004-03-10  21:00:00    2.2  ...  11.00  60.000000  0.786713\n",
              "4 2004-03-10  22:00:00    1.6  ...  11.15  59.575001  0.788794\n",
              "\n",
              "[5 rows x 15 columns]"
            ]
          },
          "metadata": {
            "tags": []
          },
          "execution_count": 229
        }
      ]
    },
    {
      "cell_type": "code",
      "metadata": {
        "colab": {
          "base_uri": "https://localhost:8080/",
          "height": 309
        },
        "id": "dJhKPBLZSSJA",
        "outputId": "30842bc9-a400-40ef-9b5b-3af756b1cfbb"
      },
      "source": [
        "air.tail()"
      ],
      "execution_count": 230,
      "outputs": [
        {
          "output_type": "execute_result",
          "data": {
            "text/html": [
              "<div>\n",
              "<style scoped>\n",
              "    .dataframe tbody tr th:only-of-type {\n",
              "        vertical-align: middle;\n",
              "    }\n",
              "\n",
              "    .dataframe tbody tr th {\n",
              "        vertical-align: top;\n",
              "    }\n",
              "\n",
              "    .dataframe thead th {\n",
              "        text-align: right;\n",
              "    }\n",
              "</style>\n",
              "<table border=\"1\" class=\"dataframe\">\n",
              "  <thead>\n",
              "    <tr style=\"text-align: right;\">\n",
              "      <th></th>\n",
              "      <th>DATE</th>\n",
              "      <th>TIME</th>\n",
              "      <th>CO_GT</th>\n",
              "      <th>PT08_S1_CO</th>\n",
              "      <th>NMHC_GT</th>\n",
              "      <th>C6H6_GT</th>\n",
              "      <th>PT08_S2_NMHC</th>\n",
              "      <th>NOX_GT</th>\n",
              "      <th>PT08_S3_NOX</th>\n",
              "      <th>NO2_GT</th>\n",
              "      <th>PT08_S4_NO2</th>\n",
              "      <th>PT08_S5_O3</th>\n",
              "      <th>T</th>\n",
              "      <th>RH</th>\n",
              "      <th>AH</th>\n",
              "    </tr>\n",
              "  </thead>\n",
              "  <tbody>\n",
              "    <tr>\n",
              "      <th>9352</th>\n",
              "      <td>2005-04-04</td>\n",
              "      <td>10:00:00</td>\n",
              "      <td>3.1</td>\n",
              "      <td>1314.25</td>\n",
              "      <td>-200</td>\n",
              "      <td>13.529605</td>\n",
              "      <td>1101.25</td>\n",
              "      <td>471.7</td>\n",
              "      <td>538.50</td>\n",
              "      <td>189.8</td>\n",
              "      <td>1374.25</td>\n",
              "      <td>1728.50</td>\n",
              "      <td>21.850</td>\n",
              "      <td>29.250</td>\n",
              "      <td>0.756824</td>\n",
              "    </tr>\n",
              "    <tr>\n",
              "      <th>9353</th>\n",
              "      <td>2005-04-04</td>\n",
              "      <td>11:00:00</td>\n",
              "      <td>2.4</td>\n",
              "      <td>1162.50</td>\n",
              "      <td>-200</td>\n",
              "      <td>11.355157</td>\n",
              "      <td>1027.00</td>\n",
              "      <td>353.3</td>\n",
              "      <td>603.75</td>\n",
              "      <td>179.2</td>\n",
              "      <td>1263.50</td>\n",
              "      <td>1269.00</td>\n",
              "      <td>24.325</td>\n",
              "      <td>23.725</td>\n",
              "      <td>0.711864</td>\n",
              "    </tr>\n",
              "    <tr>\n",
              "      <th>9354</th>\n",
              "      <td>2005-04-04</td>\n",
              "      <td>12:00:00</td>\n",
              "      <td>2.4</td>\n",
              "      <td>1142.00</td>\n",
              "      <td>-200</td>\n",
              "      <td>12.374538</td>\n",
              "      <td>1062.50</td>\n",
              "      <td>293.0</td>\n",
              "      <td>603.25</td>\n",
              "      <td>174.7</td>\n",
              "      <td>1240.75</td>\n",
              "      <td>1092.00</td>\n",
              "      <td>26.900</td>\n",
              "      <td>18.350</td>\n",
              "      <td>0.640649</td>\n",
              "    </tr>\n",
              "    <tr>\n",
              "      <th>9355</th>\n",
              "      <td>2005-04-04</td>\n",
              "      <td>13:00:00</td>\n",
              "      <td>2.1</td>\n",
              "      <td>1002.50</td>\n",
              "      <td>-200</td>\n",
              "      <td>9.547187</td>\n",
              "      <td>960.50</td>\n",
              "      <td>234.5</td>\n",
              "      <td>701.50</td>\n",
              "      <td>155.7</td>\n",
              "      <td>1041.00</td>\n",
              "      <td>769.75</td>\n",
              "      <td>28.325</td>\n",
              "      <td>13.550</td>\n",
              "      <td>0.513866</td>\n",
              "    </tr>\n",
              "    <tr>\n",
              "      <th>9356</th>\n",
              "      <td>2005-04-04</td>\n",
              "      <td>14:00:00</td>\n",
              "      <td>2.2</td>\n",
              "      <td>1070.75</td>\n",
              "      <td>-200</td>\n",
              "      <td>11.932060</td>\n",
              "      <td>1047.25</td>\n",
              "      <td>265.2</td>\n",
              "      <td>654.00</td>\n",
              "      <td>167.7</td>\n",
              "      <td>1128.50</td>\n",
              "      <td>816.00</td>\n",
              "      <td>28.500</td>\n",
              "      <td>13.125</td>\n",
              "      <td>0.502804</td>\n",
              "    </tr>\n",
              "  </tbody>\n",
              "</table>\n",
              "</div>"
            ],
            "text/plain": [
              "           DATE      TIME  CO_GT  ...       T      RH        AH\n",
              "9352 2005-04-04  10:00:00    3.1  ...  21.850  29.250  0.756824\n",
              "9353 2005-04-04  11:00:00    2.4  ...  24.325  23.725  0.711864\n",
              "9354 2005-04-04  12:00:00    2.4  ...  26.900  18.350  0.640649\n",
              "9355 2005-04-04  13:00:00    2.1  ...  28.325  13.550  0.513866\n",
              "9356 2005-04-04  14:00:00    2.2  ...  28.500  13.125  0.502804\n",
              "\n",
              "[5 rows x 15 columns]"
            ]
          },
          "metadata": {
            "tags": []
          },
          "execution_count": 230
        }
      ]
    },
    {
      "cell_type": "code",
      "metadata": {
        "colab": {
          "base_uri": "https://localhost:8080/"
        },
        "id": "xfDfGOBaSVj6",
        "outputId": "eecba08b-44a6-4dda-de5a-2391c43b33a1"
      },
      "source": [
        "air.dtypes"
      ],
      "execution_count": 231,
      "outputs": [
        {
          "output_type": "execute_result",
          "data": {
            "text/plain": [
              "DATE            datetime64[ns]\n",
              "TIME                    object\n",
              "CO_GT                  float64\n",
              "PT08_S1_CO             float64\n",
              "NMHC_GT                  int64\n",
              "C6H6_GT                float64\n",
              "PT08_S2_NMHC           float64\n",
              "NOX_GT                 float64\n",
              "PT08_S3_NOX            float64\n",
              "NO2_GT                 float64\n",
              "PT08_S4_NO2            float64\n",
              "PT08_S5_O3             float64\n",
              "T                      float64\n",
              "RH                     float64\n",
              "AH                     float64\n",
              "dtype: object"
            ]
          },
          "metadata": {
            "tags": []
          },
          "execution_count": 231
        }
      ]
    },
    {
      "cell_type": "code",
      "metadata": {
        "colab": {
          "base_uri": "https://localhost:8080/"
        },
        "id": "fYxwu53ySiae",
        "outputId": "272126bf-b14d-464c-de00-9b51a5fd9c9a"
      },
      "source": [
        "print(\"count of null values\",air.shape[0]-air.count())"
      ],
      "execution_count": 232,
      "outputs": [
        {
          "output_type": "stream",
          "text": [
            "count of null values DATE               0\n",
            "TIME               0\n",
            "CO_GT           1683\n",
            "PT08_S1_CO       366\n",
            "NMHC_GT            0\n",
            "C6H6_GT          366\n",
            "PT08_S2_NMHC     366\n",
            "NOX_GT          1639\n",
            "PT08_S3_NOX      366\n",
            "NO2_GT          1642\n",
            "PT08_S4_NO2      366\n",
            "PT08_S5_O3       366\n",
            "T                366\n",
            "RH               366\n",
            "AH               366\n",
            "dtype: int64\n"
          ],
          "name": "stdout"
        }
      ]
    },
    {
      "cell_type": "code",
      "metadata": {
        "id": "3Xe5a83STrPQ"
      },
      "source": [
        "air.dropna(how='all',inplace=True)\r\n",
        "air.dropna(thresh=10,axis=0,inplace=True)"
      ],
      "execution_count": 233,
      "outputs": []
    },
    {
      "cell_type": "code",
      "metadata": {
        "colab": {
          "base_uri": "https://localhost:8080/"
        },
        "id": "shcZ3qYyTEh1",
        "outputId": "6ca9d244-9623-4cd7-a1d8-cb7af595b1ef"
      },
      "source": [
        "print(\"count of null values\",air.shape[0]-air.count())"
      ],
      "execution_count": 234,
      "outputs": [
        {
          "output_type": "stream",
          "text": [
            "count of null values DATE               0\n",
            "TIME               0\n",
            "CO_GT           1647\n",
            "PT08_S1_CO         0\n",
            "NMHC_GT            0\n",
            "C6H6_GT            0\n",
            "PT08_S2_NMHC       0\n",
            "NOX_GT          1595\n",
            "PT08_S3_NOX        0\n",
            "NO2_GT          1598\n",
            "PT08_S4_NO2        0\n",
            "PT08_S5_O3         0\n",
            "T                  0\n",
            "RH                 0\n",
            "AH                 0\n",
            "dtype: int64\n"
          ],
          "name": "stdout"
        }
      ]
    },
    {
      "cell_type": "code",
      "metadata": {
        "id": "b6Kbk-_vUO3y"
      },
      "source": [
        "air['CO_GT']=air['CO_GT'].fillna(air['CO_GT'].mean())\r\n",
        "air['NOX_GT']=air['NOX_GT'].fillna(air['NOX_GT'].mean())\r\n",
        "air['NO2_GT']=air['NO2_GT'].fillna(air['NO2_GT'].mean())"
      ],
      "execution_count": 235,
      "outputs": []
    },
    {
      "cell_type": "code",
      "metadata": {
        "colab": {
          "base_uri": "https://localhost:8080/"
        },
        "id": "nR21Gz9UWEE7",
        "outputId": "07795bf1-d417-49ab-bfa6-6ea79bcb5349"
      },
      "source": [
        "print(\"count of null values\",air.shape[0]-air.count())"
      ],
      "execution_count": 236,
      "outputs": [
        {
          "output_type": "stream",
          "text": [
            "count of null values DATE            0\n",
            "TIME            0\n",
            "CO_GT           0\n",
            "PT08_S1_CO      0\n",
            "NMHC_GT         0\n",
            "C6H6_GT         0\n",
            "PT08_S2_NMHC    0\n",
            "NOX_GT          0\n",
            "PT08_S3_NOX     0\n",
            "NO2_GT          0\n",
            "PT08_S4_NO2     0\n",
            "PT08_S5_O3      0\n",
            "T               0\n",
            "RH              0\n",
            "AH              0\n",
            "dtype: int64\n"
          ],
          "name": "stdout"
        }
      ]
    },
    {
      "cell_type": "code",
      "metadata": {
        "colab": {
          "base_uri": "https://localhost:8080/"
        },
        "id": "TG7NpNuIWJ6V",
        "outputId": "fc53cdda-0c98-4f97-ba01-f04ef672d3de"
      },
      "source": [
        "air.dtypes"
      ],
      "execution_count": 237,
      "outputs": [
        {
          "output_type": "execute_result",
          "data": {
            "text/plain": [
              "DATE            datetime64[ns]\n",
              "TIME                    object\n",
              "CO_GT                  float64\n",
              "PT08_S1_CO             float64\n",
              "NMHC_GT                  int64\n",
              "C6H6_GT                float64\n",
              "PT08_S2_NMHC           float64\n",
              "NOX_GT                 float64\n",
              "PT08_S3_NOX            float64\n",
              "NO2_GT                 float64\n",
              "PT08_S4_NO2            float64\n",
              "PT08_S5_O3             float64\n",
              "T                      float64\n",
              "RH                     float64\n",
              "AH                     float64\n",
              "dtype: object"
            ]
          },
          "metadata": {
            "tags": []
          },
          "execution_count": 237
        }
      ]
    },
    {
      "cell_type": "code",
      "metadata": {
        "id": "lA9d8MrQX9WR"
      },
      "source": [
        "air['DATE']=pd.to_datetime(air.DATE, format='%m/%d/%Y') \r\n",
        "air.set_index('DATE',inplace=True)"
      ],
      "execution_count": 238,
      "outputs": []
    },
    {
      "cell_type": "code",
      "metadata": {
        "colab": {
          "base_uri": "https://localhost:8080/",
          "height": 340
        },
        "id": "iCg2lRrWYKs3",
        "outputId": "60aebc8d-078e-453b-924f-069aed04562c"
      },
      "source": [
        "air.head()"
      ],
      "execution_count": 239,
      "outputs": [
        {
          "output_type": "execute_result",
          "data": {
            "text/html": [
              "<div>\n",
              "<style scoped>\n",
              "    .dataframe tbody tr th:only-of-type {\n",
              "        vertical-align: middle;\n",
              "    }\n",
              "\n",
              "    .dataframe tbody tr th {\n",
              "        vertical-align: top;\n",
              "    }\n",
              "\n",
              "    .dataframe thead th {\n",
              "        text-align: right;\n",
              "    }\n",
              "</style>\n",
              "<table border=\"1\" class=\"dataframe\">\n",
              "  <thead>\n",
              "    <tr style=\"text-align: right;\">\n",
              "      <th></th>\n",
              "      <th>TIME</th>\n",
              "      <th>CO_GT</th>\n",
              "      <th>PT08_S1_CO</th>\n",
              "      <th>NMHC_GT</th>\n",
              "      <th>C6H6_GT</th>\n",
              "      <th>PT08_S2_NMHC</th>\n",
              "      <th>NOX_GT</th>\n",
              "      <th>PT08_S3_NOX</th>\n",
              "      <th>NO2_GT</th>\n",
              "      <th>PT08_S4_NO2</th>\n",
              "      <th>PT08_S5_O3</th>\n",
              "      <th>T</th>\n",
              "      <th>RH</th>\n",
              "      <th>AH</th>\n",
              "    </tr>\n",
              "    <tr>\n",
              "      <th>DATE</th>\n",
              "      <th></th>\n",
              "      <th></th>\n",
              "      <th></th>\n",
              "      <th></th>\n",
              "      <th></th>\n",
              "      <th></th>\n",
              "      <th></th>\n",
              "      <th></th>\n",
              "      <th></th>\n",
              "      <th></th>\n",
              "      <th></th>\n",
              "      <th></th>\n",
              "      <th></th>\n",
              "      <th></th>\n",
              "    </tr>\n",
              "  </thead>\n",
              "  <tbody>\n",
              "    <tr>\n",
              "      <th>2004-03-10</th>\n",
              "      <td>18:00:00</td>\n",
              "      <td>2.6</td>\n",
              "      <td>1360.00</td>\n",
              "      <td>150</td>\n",
              "      <td>11.881723</td>\n",
              "      <td>1045.50</td>\n",
              "      <td>166.0</td>\n",
              "      <td>1056.25</td>\n",
              "      <td>113.0</td>\n",
              "      <td>1692.00</td>\n",
              "      <td>1267.50</td>\n",
              "      <td>13.60</td>\n",
              "      <td>48.875001</td>\n",
              "      <td>0.757754</td>\n",
              "    </tr>\n",
              "    <tr>\n",
              "      <th>2004-03-10</th>\n",
              "      <td>19:00:00</td>\n",
              "      <td>2.0</td>\n",
              "      <td>1292.25</td>\n",
              "      <td>112</td>\n",
              "      <td>9.397165</td>\n",
              "      <td>954.75</td>\n",
              "      <td>103.0</td>\n",
              "      <td>1173.75</td>\n",
              "      <td>92.0</td>\n",
              "      <td>1558.75</td>\n",
              "      <td>972.25</td>\n",
              "      <td>13.30</td>\n",
              "      <td>47.700000</td>\n",
              "      <td>0.725487</td>\n",
              "    </tr>\n",
              "    <tr>\n",
              "      <th>2004-03-10</th>\n",
              "      <td>20:00:00</td>\n",
              "      <td>2.2</td>\n",
              "      <td>1402.00</td>\n",
              "      <td>88</td>\n",
              "      <td>8.997817</td>\n",
              "      <td>939.25</td>\n",
              "      <td>131.0</td>\n",
              "      <td>1140.00</td>\n",
              "      <td>114.0</td>\n",
              "      <td>1554.50</td>\n",
              "      <td>1074.00</td>\n",
              "      <td>11.90</td>\n",
              "      <td>53.975000</td>\n",
              "      <td>0.750239</td>\n",
              "    </tr>\n",
              "    <tr>\n",
              "      <th>2004-03-10</th>\n",
              "      <td>21:00:00</td>\n",
              "      <td>2.2</td>\n",
              "      <td>1375.50</td>\n",
              "      <td>80</td>\n",
              "      <td>9.228796</td>\n",
              "      <td>948.25</td>\n",
              "      <td>172.0</td>\n",
              "      <td>1092.00</td>\n",
              "      <td>122.0</td>\n",
              "      <td>1583.75</td>\n",
              "      <td>1203.25</td>\n",
              "      <td>11.00</td>\n",
              "      <td>60.000000</td>\n",
              "      <td>0.786713</td>\n",
              "    </tr>\n",
              "    <tr>\n",
              "      <th>2004-03-10</th>\n",
              "      <td>22:00:00</td>\n",
              "      <td>1.6</td>\n",
              "      <td>1272.25</td>\n",
              "      <td>51</td>\n",
              "      <td>6.518224</td>\n",
              "      <td>835.50</td>\n",
              "      <td>131.0</td>\n",
              "      <td>1205.00</td>\n",
              "      <td>116.0</td>\n",
              "      <td>1490.00</td>\n",
              "      <td>1110.00</td>\n",
              "      <td>11.15</td>\n",
              "      <td>59.575001</td>\n",
              "      <td>0.788794</td>\n",
              "    </tr>\n",
              "  </tbody>\n",
              "</table>\n",
              "</div>"
            ],
            "text/plain": [
              "                TIME  CO_GT  PT08_S1_CO  ...      T         RH        AH\n",
              "DATE                                     ...                            \n",
              "2004-03-10  18:00:00    2.6     1360.00  ...  13.60  48.875001  0.757754\n",
              "2004-03-10  19:00:00    2.0     1292.25  ...  13.30  47.700000  0.725487\n",
              "2004-03-10  20:00:00    2.2     1402.00  ...  11.90  53.975000  0.750239\n",
              "2004-03-10  21:00:00    2.2     1375.50  ...  11.00  60.000000  0.786713\n",
              "2004-03-10  22:00:00    1.6     1272.25  ...  11.15  59.575001  0.788794\n",
              "\n",
              "[5 rows x 14 columns]"
            ]
          },
          "metadata": {
            "tags": []
          },
          "execution_count": 239
        }
      ]
    },
    {
      "cell_type": "code",
      "metadata": {
        "id": "8CLBnirFYNkO"
      },
      "source": [
        "air['MONTH']=air.index.month  \r\n",
        "air.reset_index(inplace=True)"
      ],
      "execution_count": 240,
      "outputs": []
    },
    {
      "cell_type": "code",
      "metadata": {
        "colab": {
          "base_uri": "https://localhost:8080/",
          "height": 309
        },
        "id": "9JxyD-8TYY3r",
        "outputId": "98e2117d-94fa-4735-bec7-9aba99a0873f"
      },
      "source": [
        "air.head()"
      ],
      "execution_count": 241,
      "outputs": [
        {
          "output_type": "execute_result",
          "data": {
            "text/html": [
              "<div>\n",
              "<style scoped>\n",
              "    .dataframe tbody tr th:only-of-type {\n",
              "        vertical-align: middle;\n",
              "    }\n",
              "\n",
              "    .dataframe tbody tr th {\n",
              "        vertical-align: top;\n",
              "    }\n",
              "\n",
              "    .dataframe thead th {\n",
              "        text-align: right;\n",
              "    }\n",
              "</style>\n",
              "<table border=\"1\" class=\"dataframe\">\n",
              "  <thead>\n",
              "    <tr style=\"text-align: right;\">\n",
              "      <th></th>\n",
              "      <th>DATE</th>\n",
              "      <th>TIME</th>\n",
              "      <th>CO_GT</th>\n",
              "      <th>PT08_S1_CO</th>\n",
              "      <th>NMHC_GT</th>\n",
              "      <th>C6H6_GT</th>\n",
              "      <th>PT08_S2_NMHC</th>\n",
              "      <th>NOX_GT</th>\n",
              "      <th>PT08_S3_NOX</th>\n",
              "      <th>NO2_GT</th>\n",
              "      <th>PT08_S4_NO2</th>\n",
              "      <th>PT08_S5_O3</th>\n",
              "      <th>T</th>\n",
              "      <th>RH</th>\n",
              "      <th>AH</th>\n",
              "      <th>MONTH</th>\n",
              "    </tr>\n",
              "  </thead>\n",
              "  <tbody>\n",
              "    <tr>\n",
              "      <th>0</th>\n",
              "      <td>2004-03-10</td>\n",
              "      <td>18:00:00</td>\n",
              "      <td>2.6</td>\n",
              "      <td>1360.00</td>\n",
              "      <td>150</td>\n",
              "      <td>11.881723</td>\n",
              "      <td>1045.50</td>\n",
              "      <td>166.0</td>\n",
              "      <td>1056.25</td>\n",
              "      <td>113.0</td>\n",
              "      <td>1692.00</td>\n",
              "      <td>1267.50</td>\n",
              "      <td>13.60</td>\n",
              "      <td>48.875001</td>\n",
              "      <td>0.757754</td>\n",
              "      <td>3</td>\n",
              "    </tr>\n",
              "    <tr>\n",
              "      <th>1</th>\n",
              "      <td>2004-03-10</td>\n",
              "      <td>19:00:00</td>\n",
              "      <td>2.0</td>\n",
              "      <td>1292.25</td>\n",
              "      <td>112</td>\n",
              "      <td>9.397165</td>\n",
              "      <td>954.75</td>\n",
              "      <td>103.0</td>\n",
              "      <td>1173.75</td>\n",
              "      <td>92.0</td>\n",
              "      <td>1558.75</td>\n",
              "      <td>972.25</td>\n",
              "      <td>13.30</td>\n",
              "      <td>47.700000</td>\n",
              "      <td>0.725487</td>\n",
              "      <td>3</td>\n",
              "    </tr>\n",
              "    <tr>\n",
              "      <th>2</th>\n",
              "      <td>2004-03-10</td>\n",
              "      <td>20:00:00</td>\n",
              "      <td>2.2</td>\n",
              "      <td>1402.00</td>\n",
              "      <td>88</td>\n",
              "      <td>8.997817</td>\n",
              "      <td>939.25</td>\n",
              "      <td>131.0</td>\n",
              "      <td>1140.00</td>\n",
              "      <td>114.0</td>\n",
              "      <td>1554.50</td>\n",
              "      <td>1074.00</td>\n",
              "      <td>11.90</td>\n",
              "      <td>53.975000</td>\n",
              "      <td>0.750239</td>\n",
              "      <td>3</td>\n",
              "    </tr>\n",
              "    <tr>\n",
              "      <th>3</th>\n",
              "      <td>2004-03-10</td>\n",
              "      <td>21:00:00</td>\n",
              "      <td>2.2</td>\n",
              "      <td>1375.50</td>\n",
              "      <td>80</td>\n",
              "      <td>9.228796</td>\n",
              "      <td>948.25</td>\n",
              "      <td>172.0</td>\n",
              "      <td>1092.00</td>\n",
              "      <td>122.0</td>\n",
              "      <td>1583.75</td>\n",
              "      <td>1203.25</td>\n",
              "      <td>11.00</td>\n",
              "      <td>60.000000</td>\n",
              "      <td>0.786713</td>\n",
              "      <td>3</td>\n",
              "    </tr>\n",
              "    <tr>\n",
              "      <th>4</th>\n",
              "      <td>2004-03-10</td>\n",
              "      <td>22:00:00</td>\n",
              "      <td>1.6</td>\n",
              "      <td>1272.25</td>\n",
              "      <td>51</td>\n",
              "      <td>6.518224</td>\n",
              "      <td>835.50</td>\n",
              "      <td>131.0</td>\n",
              "      <td>1205.00</td>\n",
              "      <td>116.0</td>\n",
              "      <td>1490.00</td>\n",
              "      <td>1110.00</td>\n",
              "      <td>11.15</td>\n",
              "      <td>59.575001</td>\n",
              "      <td>0.788794</td>\n",
              "      <td>3</td>\n",
              "    </tr>\n",
              "  </tbody>\n",
              "</table>\n",
              "</div>"
            ],
            "text/plain": [
              "        DATE      TIME  CO_GT  PT08_S1_CO  ...      T         RH        AH  MONTH\n",
              "0 2004-03-10  18:00:00    2.6     1360.00  ...  13.60  48.875001  0.757754      3\n",
              "1 2004-03-10  19:00:00    2.0     1292.25  ...  13.30  47.700000  0.725487      3\n",
              "2 2004-03-10  20:00:00    2.2     1402.00  ...  11.90  53.975000  0.750239      3\n",
              "3 2004-03-10  21:00:00    2.2     1375.50  ...  11.00  60.000000  0.786713      3\n",
              "4 2004-03-10  22:00:00    1.6     1272.25  ...  11.15  59.575001  0.788794      3\n",
              "\n",
              "[5 rows x 16 columns]"
            ]
          },
          "metadata": {
            "tags": []
          },
          "execution_count": 241
        }
      ]
    },
    {
      "cell_type": "code",
      "metadata": {
        "colab": {
          "base_uri": "https://localhost:8080/"
        },
        "id": "78kZlSEzYblq",
        "outputId": "4b7191e6-7625-438e-fb77-a73118be8dd1"
      },
      "source": [
        "air.dtypes"
      ],
      "execution_count": 242,
      "outputs": [
        {
          "output_type": "execute_result",
          "data": {
            "text/plain": [
              "DATE            datetime64[ns]\n",
              "TIME                    object\n",
              "CO_GT                  float64\n",
              "PT08_S1_CO             float64\n",
              "NMHC_GT                  int64\n",
              "C6H6_GT                float64\n",
              "PT08_S2_NMHC           float64\n",
              "NOX_GT                 float64\n",
              "PT08_S3_NOX            float64\n",
              "NO2_GT                 float64\n",
              "PT08_S4_NO2            float64\n",
              "PT08_S5_O3             float64\n",
              "T                      float64\n",
              "RH                     float64\n",
              "AH                     float64\n",
              "MONTH                    int64\n",
              "dtype: object"
            ]
          },
          "metadata": {
            "tags": []
          },
          "execution_count": 242
        }
      ]
    },
    {
      "cell_type": "code",
      "metadata": {
        "id": "J1toGEmAYn3K"
      },
      "source": [
        "air=air.drop(['DATE'], axis=1)"
      ],
      "execution_count": 243,
      "outputs": []
    },
    {
      "cell_type": "code",
      "metadata": {
        "id": "EHByOjlWZaXQ"
      },
      "source": [
        "air['TIME']=air['TIME'].astype(str)"
      ],
      "execution_count": 244,
      "outputs": []
    },
    {
      "cell_type": "code",
      "metadata": {
        "colab": {
          "base_uri": "https://localhost:8080/"
        },
        "id": "cR5kbO3ueS1M",
        "outputId": "fa090d99-b8f0-4bb0-fc6e-a22e0cc40acd"
      },
      "source": [
        "air.dtypes"
      ],
      "execution_count": 245,
      "outputs": [
        {
          "output_type": "execute_result",
          "data": {
            "text/plain": [
              "TIME             object\n",
              "CO_GT           float64\n",
              "PT08_S1_CO      float64\n",
              "NMHC_GT           int64\n",
              "C6H6_GT         float64\n",
              "PT08_S2_NMHC    float64\n",
              "NOX_GT          float64\n",
              "PT08_S3_NOX     float64\n",
              "NO2_GT          float64\n",
              "PT08_S4_NO2     float64\n",
              "PT08_S5_O3      float64\n",
              "T               float64\n",
              "RH              float64\n",
              "AH              float64\n",
              "MONTH             int64\n",
              "dtype: object"
            ]
          },
          "metadata": {
            "tags": []
          },
          "execution_count": 245
        }
      ]
    },
    {
      "cell_type": "code",
      "metadata": {
        "id": "9hb84TkYfG6m"
      },
      "source": [
        "air['HOUR']=air['TIME'].apply(lambda x: int(x.split(':')[0]))"
      ],
      "execution_count": 246,
      "outputs": []
    },
    {
      "cell_type": "code",
      "metadata": {
        "colab": {
          "base_uri": "https://localhost:8080/"
        },
        "id": "DdXQQQrWgPWi",
        "outputId": "8b64620f-0752-4ec4-ce65-83ffacf96835"
      },
      "source": [
        "air.dtypes"
      ],
      "execution_count": 247,
      "outputs": [
        {
          "output_type": "execute_result",
          "data": {
            "text/plain": [
              "TIME             object\n",
              "CO_GT           float64\n",
              "PT08_S1_CO      float64\n",
              "NMHC_GT           int64\n",
              "C6H6_GT         float64\n",
              "PT08_S2_NMHC    float64\n",
              "NOX_GT          float64\n",
              "PT08_S3_NOX     float64\n",
              "NO2_GT          float64\n",
              "PT08_S4_NO2     float64\n",
              "PT08_S5_O3      float64\n",
              "T               float64\n",
              "RH              float64\n",
              "AH              float64\n",
              "MONTH             int64\n",
              "HOUR              int64\n",
              "dtype: object"
            ]
          },
          "metadata": {
            "tags": []
          },
          "execution_count": 247
        }
      ]
    },
    {
      "cell_type": "code",
      "metadata": {
        "id": "B6jJ4Hr_gRwx"
      },
      "source": [
        "air=air.drop(['TIME'],axis=1)"
      ],
      "execution_count": 248,
      "outputs": []
    },
    {
      "cell_type": "code",
      "metadata": {
        "colab": {
          "base_uri": "https://localhost:8080/",
          "height": 224
        },
        "id": "seJnqYLggYEn",
        "outputId": "4d1a5037-19fc-4741-de99-90d71b0ed211"
      },
      "source": [
        "air.head()"
      ],
      "execution_count": 249,
      "outputs": [
        {
          "output_type": "execute_result",
          "data": {
            "text/html": [
              "<div>\n",
              "<style scoped>\n",
              "    .dataframe tbody tr th:only-of-type {\n",
              "        vertical-align: middle;\n",
              "    }\n",
              "\n",
              "    .dataframe tbody tr th {\n",
              "        vertical-align: top;\n",
              "    }\n",
              "\n",
              "    .dataframe thead th {\n",
              "        text-align: right;\n",
              "    }\n",
              "</style>\n",
              "<table border=\"1\" class=\"dataframe\">\n",
              "  <thead>\n",
              "    <tr style=\"text-align: right;\">\n",
              "      <th></th>\n",
              "      <th>CO_GT</th>\n",
              "      <th>PT08_S1_CO</th>\n",
              "      <th>NMHC_GT</th>\n",
              "      <th>C6H6_GT</th>\n",
              "      <th>PT08_S2_NMHC</th>\n",
              "      <th>NOX_GT</th>\n",
              "      <th>PT08_S3_NOX</th>\n",
              "      <th>NO2_GT</th>\n",
              "      <th>PT08_S4_NO2</th>\n",
              "      <th>PT08_S5_O3</th>\n",
              "      <th>T</th>\n",
              "      <th>RH</th>\n",
              "      <th>AH</th>\n",
              "      <th>MONTH</th>\n",
              "      <th>HOUR</th>\n",
              "    </tr>\n",
              "  </thead>\n",
              "  <tbody>\n",
              "    <tr>\n",
              "      <th>0</th>\n",
              "      <td>2.6</td>\n",
              "      <td>1360.00</td>\n",
              "      <td>150</td>\n",
              "      <td>11.881723</td>\n",
              "      <td>1045.50</td>\n",
              "      <td>166.0</td>\n",
              "      <td>1056.25</td>\n",
              "      <td>113.0</td>\n",
              "      <td>1692.00</td>\n",
              "      <td>1267.50</td>\n",
              "      <td>13.60</td>\n",
              "      <td>48.875001</td>\n",
              "      <td>0.757754</td>\n",
              "      <td>3</td>\n",
              "      <td>18</td>\n",
              "    </tr>\n",
              "    <tr>\n",
              "      <th>1</th>\n",
              "      <td>2.0</td>\n",
              "      <td>1292.25</td>\n",
              "      <td>112</td>\n",
              "      <td>9.397165</td>\n",
              "      <td>954.75</td>\n",
              "      <td>103.0</td>\n",
              "      <td>1173.75</td>\n",
              "      <td>92.0</td>\n",
              "      <td>1558.75</td>\n",
              "      <td>972.25</td>\n",
              "      <td>13.30</td>\n",
              "      <td>47.700000</td>\n",
              "      <td>0.725487</td>\n",
              "      <td>3</td>\n",
              "      <td>19</td>\n",
              "    </tr>\n",
              "    <tr>\n",
              "      <th>2</th>\n",
              "      <td>2.2</td>\n",
              "      <td>1402.00</td>\n",
              "      <td>88</td>\n",
              "      <td>8.997817</td>\n",
              "      <td>939.25</td>\n",
              "      <td>131.0</td>\n",
              "      <td>1140.00</td>\n",
              "      <td>114.0</td>\n",
              "      <td>1554.50</td>\n",
              "      <td>1074.00</td>\n",
              "      <td>11.90</td>\n",
              "      <td>53.975000</td>\n",
              "      <td>0.750239</td>\n",
              "      <td>3</td>\n",
              "      <td>20</td>\n",
              "    </tr>\n",
              "    <tr>\n",
              "      <th>3</th>\n",
              "      <td>2.2</td>\n",
              "      <td>1375.50</td>\n",
              "      <td>80</td>\n",
              "      <td>9.228796</td>\n",
              "      <td>948.25</td>\n",
              "      <td>172.0</td>\n",
              "      <td>1092.00</td>\n",
              "      <td>122.0</td>\n",
              "      <td>1583.75</td>\n",
              "      <td>1203.25</td>\n",
              "      <td>11.00</td>\n",
              "      <td>60.000000</td>\n",
              "      <td>0.786713</td>\n",
              "      <td>3</td>\n",
              "      <td>21</td>\n",
              "    </tr>\n",
              "    <tr>\n",
              "      <th>4</th>\n",
              "      <td>1.6</td>\n",
              "      <td>1272.25</td>\n",
              "      <td>51</td>\n",
              "      <td>6.518224</td>\n",
              "      <td>835.50</td>\n",
              "      <td>131.0</td>\n",
              "      <td>1205.00</td>\n",
              "      <td>116.0</td>\n",
              "      <td>1490.00</td>\n",
              "      <td>1110.00</td>\n",
              "      <td>11.15</td>\n",
              "      <td>59.575001</td>\n",
              "      <td>0.788794</td>\n",
              "      <td>3</td>\n",
              "      <td>22</td>\n",
              "    </tr>\n",
              "  </tbody>\n",
              "</table>\n",
              "</div>"
            ],
            "text/plain": [
              "   CO_GT  PT08_S1_CO  NMHC_GT    C6H6_GT  ...         RH        AH  MONTH  HOUR\n",
              "0    2.6     1360.00      150  11.881723  ...  48.875001  0.757754      3    18\n",
              "1    2.0     1292.25      112   9.397165  ...  47.700000  0.725487      3    19\n",
              "2    2.2     1402.00       88   8.997817  ...  53.975000  0.750239      3    20\n",
              "3    2.2     1375.50       80   9.228796  ...  60.000000  0.786713      3    21\n",
              "4    1.6     1272.25       51   6.518224  ...  59.575001  0.788794      3    22\n",
              "\n",
              "[5 rows x 15 columns]"
            ]
          },
          "metadata": {
            "tags": []
          },
          "execution_count": 249
        }
      ]
    },
    {
      "cell_type": "code",
      "metadata": {
        "id": "qI5I0CKQgfCC"
      },
      "source": [
        "import seaborn as sns"
      ],
      "execution_count": 250,
      "outputs": []
    },
    {
      "cell_type": "code",
      "metadata": {
        "colab": {
          "base_uri": "https://localhost:8080/",
          "height": 534
        },
        "id": "6Pfr4Ib-gk-N",
        "outputId": "78dd3ed9-6285-4e97-d781-aa79db3b7b32"
      },
      "source": [
        "air.corr()"
      ],
      "execution_count": 251,
      "outputs": [
        {
          "output_type": "execute_result",
          "data": {
            "text/html": [
              "<div>\n",
              "<style scoped>\n",
              "    .dataframe tbody tr th:only-of-type {\n",
              "        vertical-align: middle;\n",
              "    }\n",
              "\n",
              "    .dataframe tbody tr th {\n",
              "        vertical-align: top;\n",
              "    }\n",
              "\n",
              "    .dataframe thead th {\n",
              "        text-align: right;\n",
              "    }\n",
              "</style>\n",
              "<table border=\"1\" class=\"dataframe\">\n",
              "  <thead>\n",
              "    <tr style=\"text-align: right;\">\n",
              "      <th></th>\n",
              "      <th>CO_GT</th>\n",
              "      <th>PT08_S1_CO</th>\n",
              "      <th>NMHC_GT</th>\n",
              "      <th>C6H6_GT</th>\n",
              "      <th>PT08_S2_NMHC</th>\n",
              "      <th>NOX_GT</th>\n",
              "      <th>PT08_S3_NOX</th>\n",
              "      <th>NO2_GT</th>\n",
              "      <th>PT08_S4_NO2</th>\n",
              "      <th>PT08_S5_O3</th>\n",
              "      <th>T</th>\n",
              "      <th>RH</th>\n",
              "      <th>AH</th>\n",
              "      <th>MONTH</th>\n",
              "      <th>HOUR</th>\n",
              "    </tr>\n",
              "  </thead>\n",
              "  <tbody>\n",
              "    <tr>\n",
              "      <th>CO_GT</th>\n",
              "      <td>1.000000</td>\n",
              "      <td>0.800535</td>\n",
              "      <td>0.172815</td>\n",
              "      <td>0.840522</td>\n",
              "      <td>0.823205</td>\n",
              "      <td>0.752817</td>\n",
              "      <td>-0.635327</td>\n",
              "      <td>0.636184</td>\n",
              "      <td>0.576814</td>\n",
              "      <td>0.785708</td>\n",
              "      <td>0.020054</td>\n",
              "      <td>0.044534</td>\n",
              "      <td>0.043456</td>\n",
              "      <td>0.097419</td>\n",
              "      <td>0.324816</td>\n",
              "    </tr>\n",
              "    <tr>\n",
              "      <th>PT08_S1_CO</th>\n",
              "      <td>0.800535</td>\n",
              "      <td>1.000000</td>\n",
              "      <td>0.250615</td>\n",
              "      <td>0.883821</td>\n",
              "      <td>0.892972</td>\n",
              "      <td>0.650745</td>\n",
              "      <td>-0.771918</td>\n",
              "      <td>0.585090</td>\n",
              "      <td>0.682874</td>\n",
              "      <td>0.899326</td>\n",
              "      <td>0.048628</td>\n",
              "      <td>0.114607</td>\n",
              "      <td>0.135323</td>\n",
              "      <td>-0.040334</td>\n",
              "      <td>0.328029</td>\n",
              "    </tr>\n",
              "    <tr>\n",
              "      <th>NMHC_GT</th>\n",
              "      <td>0.172815</td>\n",
              "      <td>0.250615</td>\n",
              "      <td>1.000000</td>\n",
              "      <td>0.136738</td>\n",
              "      <td>0.134304</td>\n",
              "      <td>-0.105073</td>\n",
              "      <td>0.052205</td>\n",
              "      <td>-0.011023</td>\n",
              "      <td>0.213857</td>\n",
              "      <td>0.111535</td>\n",
              "      <td>-0.068126</td>\n",
              "      <td>-0.014300</td>\n",
              "      <td>-0.123689</td>\n",
              "      <td>-0.235520</td>\n",
              "      <td>0.050742</td>\n",
              "    </tr>\n",
              "    <tr>\n",
              "      <th>C6H6_GT</th>\n",
              "      <td>0.840522</td>\n",
              "      <td>0.883821</td>\n",
              "      <td>0.136738</td>\n",
              "      <td>1.000000</td>\n",
              "      <td>0.981962</td>\n",
              "      <td>0.651315</td>\n",
              "      <td>-0.735711</td>\n",
              "      <td>0.556928</td>\n",
              "      <td>0.765717</td>\n",
              "      <td>0.865727</td>\n",
              "      <td>0.198891</td>\n",
              "      <td>-0.061643</td>\n",
              "      <td>0.167909</td>\n",
              "      <td>0.128530</td>\n",
              "      <td>0.344149</td>\n",
              "    </tr>\n",
              "    <tr>\n",
              "      <th>PT08_S2_NMHC</th>\n",
              "      <td>0.823205</td>\n",
              "      <td>0.892972</td>\n",
              "      <td>0.134304</td>\n",
              "      <td>0.981962</td>\n",
              "      <td>1.000000</td>\n",
              "      <td>0.635538</td>\n",
              "      <td>-0.796687</td>\n",
              "      <td>0.583212</td>\n",
              "      <td>0.777235</td>\n",
              "      <td>0.880590</td>\n",
              "      <td>0.241330</td>\n",
              "      <td>-0.090352</td>\n",
              "      <td>0.186906</td>\n",
              "      <td>0.128228</td>\n",
              "      <td>0.389194</td>\n",
              "    </tr>\n",
              "    <tr>\n",
              "      <th>NOX_GT</th>\n",
              "      <td>0.752817</td>\n",
              "      <td>0.650745</td>\n",
              "      <td>-0.105073</td>\n",
              "      <td>0.651315</td>\n",
              "      <td>0.635538</td>\n",
              "      <td>1.000000</td>\n",
              "      <td>-0.594868</td>\n",
              "      <td>0.758092</td>\n",
              "      <td>0.216490</td>\n",
              "      <td>0.726941</td>\n",
              "      <td>-0.249329</td>\n",
              "      <td>0.202527</td>\n",
              "      <td>-0.135322</td>\n",
              "      <td>0.122708</td>\n",
              "      <td>0.202336</td>\n",
              "    </tr>\n",
              "    <tr>\n",
              "      <th>PT08_S3_NOX</th>\n",
              "      <td>-0.635327</td>\n",
              "      <td>-0.771918</td>\n",
              "      <td>0.052205</td>\n",
              "      <td>-0.735711</td>\n",
              "      <td>-0.796687</td>\n",
              "      <td>-0.594868</td>\n",
              "      <td>1.000000</td>\n",
              "      <td>-0.591619</td>\n",
              "      <td>-0.538460</td>\n",
              "      <td>-0.796554</td>\n",
              "      <td>-0.145133</td>\n",
              "      <td>-0.056730</td>\n",
              "      <td>-0.232021</td>\n",
              "      <td>-0.061556</td>\n",
              "      <td>-0.323662</td>\n",
              "    </tr>\n",
              "    <tr>\n",
              "      <th>NO2_GT</th>\n",
              "      <td>0.636184</td>\n",
              "      <td>0.585090</td>\n",
              "      <td>-0.011023</td>\n",
              "      <td>0.556928</td>\n",
              "      <td>0.583212</td>\n",
              "      <td>0.758092</td>\n",
              "      <td>-0.591619</td>\n",
              "      <td>1.000000</td>\n",
              "      <td>0.145994</td>\n",
              "      <td>0.654161</td>\n",
              "      <td>-0.172225</td>\n",
              "      <td>-0.084141</td>\n",
              "      <td>-0.303472</td>\n",
              "      <td>-0.160575</td>\n",
              "      <td>0.332012</td>\n",
              "    </tr>\n",
              "    <tr>\n",
              "      <th>PT08_S4_NO2</th>\n",
              "      <td>0.576814</td>\n",
              "      <td>0.682874</td>\n",
              "      <td>0.213857</td>\n",
              "      <td>0.765717</td>\n",
              "      <td>0.777235</td>\n",
              "      <td>0.216490</td>\n",
              "      <td>-0.538460</td>\n",
              "      <td>0.145994</td>\n",
              "      <td>1.000000</td>\n",
              "      <td>0.591137</td>\n",
              "      <td>0.561333</td>\n",
              "      <td>-0.032188</td>\n",
              "      <td>0.629644</td>\n",
              "      <td>0.176305</td>\n",
              "      <td>0.221248</td>\n",
              "    </tr>\n",
              "    <tr>\n",
              "      <th>PT08_S5_O3</th>\n",
              "      <td>0.785708</td>\n",
              "      <td>0.899326</td>\n",
              "      <td>0.111535</td>\n",
              "      <td>0.865727</td>\n",
              "      <td>0.880590</td>\n",
              "      <td>0.726941</td>\n",
              "      <td>-0.796554</td>\n",
              "      <td>0.654161</td>\n",
              "      <td>0.591137</td>\n",
              "      <td>1.000000</td>\n",
              "      <td>-0.027193</td>\n",
              "      <td>0.124952</td>\n",
              "      <td>0.070738</td>\n",
              "      <td>0.049023</td>\n",
              "      <td>0.245066</td>\n",
              "    </tr>\n",
              "    <tr>\n",
              "      <th>T</th>\n",
              "      <td>0.020054</td>\n",
              "      <td>0.048628</td>\n",
              "      <td>-0.068126</td>\n",
              "      <td>0.198891</td>\n",
              "      <td>0.241330</td>\n",
              "      <td>-0.249329</td>\n",
              "      <td>-0.145133</td>\n",
              "      <td>-0.172225</td>\n",
              "      <td>0.561333</td>\n",
              "      <td>-0.027193</td>\n",
              "      <td>1.000000</td>\n",
              "      <td>-0.578569</td>\n",
              "      <td>0.656471</td>\n",
              "      <td>0.282939</td>\n",
              "      <td>0.206570</td>\n",
              "    </tr>\n",
              "    <tr>\n",
              "      <th>RH</th>\n",
              "      <td>0.044534</td>\n",
              "      <td>0.114607</td>\n",
              "      <td>-0.014300</td>\n",
              "      <td>-0.061643</td>\n",
              "      <td>-0.090352</td>\n",
              "      <td>0.202527</td>\n",
              "      <td>-0.056730</td>\n",
              "      <td>-0.084141</td>\n",
              "      <td>-0.032188</td>\n",
              "      <td>0.124952</td>\n",
              "      <td>-0.578569</td>\n",
              "      <td>1.000000</td>\n",
              "      <td>0.167971</td>\n",
              "      <td>0.082554</td>\n",
              "      <td>-0.295836</td>\n",
              "    </tr>\n",
              "    <tr>\n",
              "      <th>AH</th>\n",
              "      <td>0.043456</td>\n",
              "      <td>0.135323</td>\n",
              "      <td>-0.123689</td>\n",
              "      <td>0.167909</td>\n",
              "      <td>0.186906</td>\n",
              "      <td>-0.135322</td>\n",
              "      <td>-0.232021</td>\n",
              "      <td>-0.303472</td>\n",
              "      <td>0.629644</td>\n",
              "      <td>0.070738</td>\n",
              "      <td>0.656471</td>\n",
              "      <td>0.167971</td>\n",
              "      <td>1.000000</td>\n",
              "      <td>0.425834</td>\n",
              "      <td>-0.018627</td>\n",
              "    </tr>\n",
              "    <tr>\n",
              "      <th>MONTH</th>\n",
              "      <td>0.097419</td>\n",
              "      <td>-0.040334</td>\n",
              "      <td>-0.235520</td>\n",
              "      <td>0.128530</td>\n",
              "      <td>0.128228</td>\n",
              "      <td>0.122708</td>\n",
              "      <td>-0.061556</td>\n",
              "      <td>-0.160575</td>\n",
              "      <td>0.176305</td>\n",
              "      <td>0.049023</td>\n",
              "      <td>0.282939</td>\n",
              "      <td>0.082554</td>\n",
              "      <td>0.425834</td>\n",
              "      <td>1.000000</td>\n",
              "      <td>0.000277</td>\n",
              "    </tr>\n",
              "    <tr>\n",
              "      <th>HOUR</th>\n",
              "      <td>0.324816</td>\n",
              "      <td>0.328029</td>\n",
              "      <td>0.050742</td>\n",
              "      <td>0.344149</td>\n",
              "      <td>0.389194</td>\n",
              "      <td>0.202336</td>\n",
              "      <td>-0.323662</td>\n",
              "      <td>0.332012</td>\n",
              "      <td>0.221248</td>\n",
              "      <td>0.245066</td>\n",
              "      <td>0.206570</td>\n",
              "      <td>-0.295836</td>\n",
              "      <td>-0.018627</td>\n",
              "      <td>0.000277</td>\n",
              "      <td>1.000000</td>\n",
              "    </tr>\n",
              "  </tbody>\n",
              "</table>\n",
              "</div>"
            ],
            "text/plain": [
              "                 CO_GT  PT08_S1_CO   NMHC_GT  ...        AH     MONTH      HOUR\n",
              "CO_GT         1.000000    0.800535  0.172815  ...  0.043456  0.097419  0.324816\n",
              "PT08_S1_CO    0.800535    1.000000  0.250615  ...  0.135323 -0.040334  0.328029\n",
              "NMHC_GT       0.172815    0.250615  1.000000  ... -0.123689 -0.235520  0.050742\n",
              "C6H6_GT       0.840522    0.883821  0.136738  ...  0.167909  0.128530  0.344149\n",
              "PT08_S2_NMHC  0.823205    0.892972  0.134304  ...  0.186906  0.128228  0.389194\n",
              "NOX_GT        0.752817    0.650745 -0.105073  ... -0.135322  0.122708  0.202336\n",
              "PT08_S3_NOX  -0.635327   -0.771918  0.052205  ... -0.232021 -0.061556 -0.323662\n",
              "NO2_GT        0.636184    0.585090 -0.011023  ... -0.303472 -0.160575  0.332012\n",
              "PT08_S4_NO2   0.576814    0.682874  0.213857  ...  0.629644  0.176305  0.221248\n",
              "PT08_S5_O3    0.785708    0.899326  0.111535  ...  0.070738  0.049023  0.245066\n",
              "T             0.020054    0.048628 -0.068126  ...  0.656471  0.282939  0.206570\n",
              "RH            0.044534    0.114607 -0.014300  ...  0.167971  0.082554 -0.295836\n",
              "AH            0.043456    0.135323 -0.123689  ...  1.000000  0.425834 -0.018627\n",
              "MONTH         0.097419   -0.040334 -0.235520  ...  0.425834  1.000000  0.000277\n",
              "HOUR          0.324816    0.328029  0.050742  ... -0.018627  0.000277  1.000000\n",
              "\n",
              "[15 rows x 15 columns]"
            ]
          },
          "metadata": {
            "tags": []
          },
          "execution_count": 251
        }
      ]
    },
    {
      "cell_type": "code",
      "metadata": {
        "colab": {
          "base_uri": "https://localhost:8080/",
          "height": 400
        },
        "id": "DoJ5JILlhDF3",
        "outputId": "52cba985-8d8e-4727-fdd3-ed07cfa54e6e"
      },
      "source": [
        "sns.relplot(y='RH',x='HOUR',data=air,hue='C6H6_GT')"
      ],
      "execution_count": 252,
      "outputs": [
        {
          "output_type": "execute_result",
          "data": {
            "text/plain": [
              "<seaborn.axisgrid.FacetGrid at 0x7ff164468438>"
            ]
          },
          "metadata": {
            "tags": []
          },
          "execution_count": 252
        },
        {
          "output_type": "display_data",
          "data": {
            "image/png": "[encoded data removed]",
            "text/plain": [
              "<Figure size 413.5x360 with 1 Axes>"
            ]
          },
          "metadata": {
            "tags": [],
            "needs_background": "light"
          }
        }
      ]
    },
    {
      "cell_type": "code",
      "metadata": {
        "colab": {
          "base_uri": "https://localhost:8080/",
          "height": 680
        },
        "id": "P2rZ69uTiiIt",
        "outputId": "97091acd-9204-42eb-b081-e4b3f3dc0832"
      },
      "source": [
        "import matplotlib.pyplot as plt\r\n",
        "fig, ax = plt.subplots(figsize=(10,10))       \r\n",
        "sns.heatmap(air.corr(), annot=True, linewidths=.5, ax=ax)"
      ],
      "execution_count": 253,
      "outputs": [
        {
          "output_type": "execute_result",
          "data": {
            "text/plain": [
              "<matplotlib.axes._subplots.AxesSubplot at 0x7ff163f38898>"
            ]
          },
          "metadata": {
            "tags": []
          },
          "execution_count": 253
        },
        {
          "output_type": "display_data",
          "data": {
            "image/png": "[encoded data removed]",
            "text/plain": [
              "<Figure size 720x720 with 2 Axes>"
            ]
          },
          "metadata": {
            "tags": [],
            "needs_background": "light"
          }
        }
      ]
    },
    {
      "cell_type": "code",
      "metadata": {
        "id": "9ZuYKOkYjYHa"
      },
      "source": [
        "from sklearn.model_selection import train_test_split"
      ],
      "execution_count": 254,
      "outputs": []
    },
    {
      "cell_type": "code",
      "metadata": {
        "id": "sKSZNHMLj3_l"
      },
      "source": [
        "from sklearn.ensemble import RandomForestRegressor"
      ],
      "execution_count": 255,
      "outputs": []
    },
    {
      "cell_type": "code",
      "metadata": {
        "id": "H9QsViiakDOk"
      },
      "source": [
        "X=air.drop(['RH'],axis=1)\r\n",
        "y=air[['RH']]"
      ],
      "execution_count": 256,
      "outputs": []
    },
    {
      "cell_type": "code",
      "metadata": {
        "id": "654X3FRZkMdW"
      },
      "source": [
        "x_train,x_test,y_train,y_test=train_test_split(X,y,test_size=0.2,random_state=42)"
      ],
      "execution_count": 257,
      "outputs": []
    },
    {
      "cell_type": "code",
      "metadata": {
        "id": "A_ZpCMdJkrMs"
      },
      "source": [
        "rf=RandomForestRegressor()"
      ],
      "execution_count": 258,
      "outputs": []
    },
    {
      "cell_type": "code",
      "metadata": {
        "colab": {
          "base_uri": "https://localhost:8080/"
        },
        "id": "4uJGkgTekzU6",
        "outputId": "12fc7956-476a-4b42-952d-9e1319f364c5"
      },
      "source": [
        "rf.fit(x_train,y_train)"
      ],
      "execution_count": 259,
      "outputs": [
        {
          "output_type": "stream",
          "text": [
            "/usr/local/lib/python3.6/dist-packages/ipykernel_launcher.py:1: DataConversionWarning: A column-vector y was passed when a 1d array was expected. Please change the shape of y to (n_samples,), for example using ravel().\n",
            "  \"\"\"Entry point for launching an IPython kernel.\n"
          ],
          "name": "stderr"
        },
        {
          "output_type": "execute_result",
          "data": {
            "text/plain": [
              "RandomForestRegressor(bootstrap=True, ccp_alpha=0.0, criterion='mse',\n",
              "                      max_depth=None, max_features='auto', max_leaf_nodes=None,\n",
              "                      max_samples=None, min_impurity_decrease=0.0,\n",
              "                      min_impurity_split=None, min_samples_leaf=1,\n",
              "                      min_samples_split=2, min_weight_fraction_leaf=0.0,\n",
              "                      n_estimators=100, n_jobs=None, oob_score=False,\n",
              "                      random_state=None, verbose=0, warm_start=False)"
            ]
          },
          "metadata": {
            "tags": []
          },
          "execution_count": 259
        }
      ]
    },
    {
      "cell_type": "code",
      "metadata": {
        "colab": {
          "base_uri": "https://localhost:8080/"
        },
        "id": "32kpe74jk3s0",
        "outputId": "f65398f9-13c2-4448-f94e-590fe62b6a2a"
      },
      "source": [
        "rf.score(x_test,y_test) #Accuracy like these shows overfitting dont ever consider it as right before trying out with more data if available"
      ],
      "execution_count": 260,
      "outputs": [
        {
          "output_type": "execute_result",
          "data": {
            "text/plain": [
              "0.9986357245960741"
            ]
          },
          "metadata": {
            "tags": []
          },
          "execution_count": 260
        }
      ]
    },
    {
      "cell_type": "code",
      "metadata": {
        "id": "v4AFeNlNk8hQ"
      },
      "source": [
        "from sklearn.tree import DecisionTreeRegressor"
      ],
      "execution_count": 262,
      "outputs": []
    },
    {
      "cell_type": "code",
      "metadata": {
        "id": "srbWfmVulg2R"
      },
      "source": [
        "pr=DecisionTreeRegressor(max_depth=6)"
      ],
      "execution_count": 271,
      "outputs": []
    },
    {
      "cell_type": "code",
      "metadata": {
        "colab": {
          "base_uri": "https://localhost:8080/"
        },
        "id": "6ThKjvOGnP22",
        "outputId": "2bcb18e3-22c1-4ec3-c5aa-376797a6c605"
      },
      "source": [
        "pr.fit(x_train,y_train)\r\n",
        "pr.score(x_test,y_test)"
      ],
      "execution_count": 272,
      "outputs": [
        {
          "output_type": "execute_result",
          "data": {
            "text/plain": [
              "0.9248409152462638"
            ]
          },
          "metadata": {
            "tags": []
          },
          "execution_count": 272
        }
      ]
    },
    {
      "cell_type": "code",
      "metadata": {
        "id": "QZ-KTynonWrL"
      },
      "source": [
        ""
      ],
      "execution_count": null,
      "outputs": []
    },
    {
      "cell_type": "code",
      "metadata": {
        "id": "MCsXsUl6leSi"
      },
      "source": [
        ""
      ],
      "execution_count": null,
      "outputs": []
    },
    {
      "cell_type": "code",
      "metadata": {
        "id": "TCu-PsPKjqxD"
      },
      "source": [
        ""
      ],
      "execution_count": 260,
      "outputs": []
    },
    {
      "cell_type": "code",
      "metadata": {
        "id": "okCOXio2i5jo"
      },
      "source": [
        ""
      ],
      "execution_count": 260,
      "outputs": []
    },
    {
      "cell_type": "code",
      "metadata": {
        "id": "6gQ2SXQfi201"
      },
      "source": [
        ""
      ],
      "execution_count": 260,
      "outputs": []
    },
    {
      "cell_type": "code",
      "metadata": {
        "id": "vezb54p2iabz"
      },
      "source": [
        ""
      ],
      "execution_count": 260,
      "outputs": []
    },
    {
      "cell_type": "code",
      "metadata": {
        "id": "LcDoxsQ8iS2h"
      },
      "source": [
        ""
      ],
      "execution_count": 260,
      "outputs": []
    },
    {
      "cell_type": "code",
      "metadata": {
        "id": "-D9ge1NGiO-z"
      },
      "source": [
        ""
      ],
      "execution_count": 260,
      "outputs": []
    },
    {
      "cell_type": "code",
      "metadata": {
        "id": "UZu6wpanh9bS"
      },
      "source": [
        ""
      ],
      "execution_count": 260,
      "outputs": []
    },
    {
      "cell_type": "code",
      "metadata": {
        "id": "bdGUsvSAha2x"
      },
      "source": [
        ""
      ],
      "execution_count": 260,
      "outputs": []
    },
    {
      "cell_type": "code",
      "metadata": {
        "id": "4sU5AWmThYqf"
      },
      "source": [
        ""
      ],
      "execution_count": 260,
      "outputs": []
    },
    {
      "cell_type": "code",
      "metadata": {
        "id": "l4y90s7xhWjc"
      },
      "source": [
        ""
      ],
      "execution_count": 260,
      "outputs": []
    },
    {
      "cell_type": "code",
      "metadata": {
        "id": "A1eKohKrg2Qf"
      },
      "source": [
        ""
      ],
      "execution_count": 260,
      "outputs": []
    },
    {
      "cell_type": "code",
      "metadata": {
        "id": "gpdlXVj4gc6Y"
      },
      "source": [
        ""
      ],
      "execution_count": 260,
      "outputs": []
    },
    {
      "cell_type": "code",
      "metadata": {
        "id": "Z5a5UThdfFL0"
      },
      "source": [
        ""
      ],
      "execution_count": 260,
      "outputs": []
    },
    {
      "cell_type": "code",
      "metadata": {
        "id": "wSH6z-Jyeom9"
      },
      "source": [
        ""
      ],
      "execution_count": 260,
      "outputs": []
    },
    {
      "cell_type": "code",
      "metadata": {
        "id": "zI0NJGwXesLN"
      },
      "source": [
        ""
      ],
      "execution_count": 260,
      "outputs": []
    },
    {
      "cell_type": "code",
      "metadata": {
        "id": "NW3EDo4mei0p"
      },
      "source": [
        ""
      ],
      "execution_count": 260,
      "outputs": []
    },
    {
      "cell_type": "code",
      "metadata": {
        "id": "rDfQCoYXefhw"
      },
      "source": [
        ""
      ],
      "execution_count": 260,
      "outputs": []
    },
    {
      "cell_type": "code",
      "metadata": {
        "id": "0hxaTWaIeYIp"
      },
      "source": [
        ""
      ],
      "execution_count": 260,
      "outputs": []
    },
    {
      "cell_type": "code",
      "metadata": {
        "id": "jI6y9bfgeWxC"
      },
      "source": [
        ""
      ],
      "execution_count": 260,
      "outputs": []
    },
    {
      "cell_type": "code",
      "metadata": {
        "id": "MBxblaLReEr9"
      },
      "source": [
        ""
      ],
      "execution_count": 260,
      "outputs": []
    },
    {
      "cell_type": "code",
      "metadata": {
        "id": "XQGDHoy9ZXES"
      },
      "source": [
        ""
      ],
      "execution_count": 260,
      "outputs": []
    },
    {
      "cell_type": "code",
      "metadata": {
        "id": "4aKQJAzMZNLW"
      },
      "source": [
        ""
      ],
      "execution_count": 260,
      "outputs": []
    },
    {
      "cell_type": "code",
      "metadata": {
        "id": "xhVw3vDYY9rC"
      },
      "source": [
        ""
      ],
      "execution_count": 260,
      "outputs": []
    },
    {
      "cell_type": "code",
      "metadata": {
        "id": "AhUpl8WkY5HN"
      },
      "source": [
        ""
      ],
      "execution_count": 260,
      "outputs": []
    },
    {
      "cell_type": "code",
      "metadata": {
        "id": "99JWhpiSYWGL"
      },
      "source": [
        ""
      ],
      "execution_count": 260,
      "outputs": []
    },
    {
      "cell_type": "markdown",
      "metadata": {
        "id": "jjtChCknXg5T"
      },
      "source": [
        ""
      ]
    },
    {
      "cell_type": "code",
      "metadata": {
        "id": "curxD7c-XOtm"
      },
      "source": [
        ""
      ],
      "execution_count": 260,
      "outputs": []
    },
    {
      "cell_type": "code",
      "metadata": {
        "id": "s8nJYirEW-Ba"
      },
      "source": [
        ""
      ],
      "execution_count": 260,
      "outputs": []
    },
    {
      "cell_type": "code",
      "metadata": {
        "id": "zSYwD5WDW70D"
      },
      "source": [
        ""
      ],
      "execution_count": 260,
      "outputs": []
    },
    {
      "cell_type": "code",
      "metadata": {
        "id": "APmDw0zxV363"
      },
      "source": [
        ""
      ],
      "execution_count": 260,
      "outputs": []
    },
    {
      "cell_type": "code",
      "metadata": {
        "id": "TaSXGNx4UKKL"
      },
      "source": [
        ""
      ],
      "execution_count": 260,
      "outputs": []
    },
    {
      "cell_type": "code",
      "metadata": {
        "id": "YEye7y-vTiCW"
      },
      "source": [
        ""
      ],
      "execution_count": 260,
      "outputs": []
    },
    {
      "cell_type": "code",
      "metadata": {
        "id": "ZPO7fwxYTRTC"
      },
      "source": [
        ""
      ],
      "execution_count": 260,
      "outputs": []
    },
    {
      "cell_type": "code",
      "metadata": {
        "id": "fBJ9pCCeTI22"
      },
      "source": [
        ""
      ],
      "execution_count": 260,
      "outputs": []
    },
    {
      "cell_type": "code",
      "metadata": {
        "id": "CRaDdgIJTCdn"
      },
      "source": [
        ""
      ],
      "execution_count": 260,
      "outputs": []
    },
    {
      "cell_type": "code",
      "metadata": {
        "id": "F_R5ts9mS1gt"
      },
      "source": [
        ""
      ],
      "execution_count": 260,
      "outputs": []
    },
    {
      "cell_type": "code",
      "metadata": {
        "id": "n11NJ4z5Sg5_"
      },
      "source": [
        ""
      ],
      "execution_count": 260,
      "outputs": []
    },
    {
      "cell_type": "code",
      "metadata": {
        "id": "7TPNCsTSSIvb"
      },
      "source": [
        ""
      ],
      "execution_count": 260,
      "outputs": []
    },
    {
      "cell_type": "code",
      "metadata": {
        "id": "yj0MaqS-R9zU"
      },
      "source": [
        ""
      ],
      "execution_count": 260,
      "outputs": []
    },
    {
      "cell_type": "code",
      "metadata": {
        "id": "KlRNkelZRZMy"
      },
      "source": [
        ""
      ],
      "execution_count": 260,
      "outputs": []
    },
    {
      "cell_type": "code",
      "metadata": {
        "id": "dbl1k2tJRVkF"
      },
      "source": [
        ""
      ],
      "execution_count": 260,
      "outputs": []
    },
    {
      "cell_type": "code",
      "metadata": {
        "id": "lYqP5NAbRN6E"
      },
      "source": [
        ""
      ],
      "execution_count": 260,
      "outputs": []
    },
    {
      "cell_type": "code",
      "metadata": {
        "id": "3xKW7XpBRHHl"
      },
      "source": [
        ""
      ],
      "execution_count": 260,
      "outputs": []
    },
    {
      "cell_type": "code",
      "metadata": {
        "id": "RRYmmRr8QnZ7"
      },
      "source": [
        ""
      ],
      "execution_count": 260,
      "outputs": []
    },
    {
      "cell_type": "code",
      "metadata": {
        "id": "9E9yJGY8QiLc"
      },
      "source": [
        ""
      ],
      "execution_count": 260,
      "outputs": []
    },
    {
      "cell_type": "code",
      "metadata": {
        "id": "ck7NBvYGQVrD"
      },
      "source": [
        ""
      ],
      "execution_count": 260,
      "outputs": []
    },
    {
      "cell_type": "markdown",
      "metadata": {
        "id": "a0439JcaPl2f"
      },
      "source": [
        "# New Section"
      ]
    },
    {
      "cell_type": "markdown",
      "metadata": {
        "id": "2vN1zwuEP3t6"
      },
      "source": [
        "# New Section"
      ]
    },
    {
      "cell_type": "markdown",
      "metadata": {
        "id": "ibVBIvhSPxY3"
      },
      "source": [
        ""
      ]
    },
    {
      "cell_type": "code",
      "metadata": {
        "id": "-YIQP_bfPp19"
      },
      "source": [
        ""
      ],
      "execution_count": 260,
      "outputs": []
    }
  ]
}